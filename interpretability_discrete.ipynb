{
 "cells": [
  {
   "cell_type": "code",
   "execution_count": null,
   "outputs": [],
   "source": [
    "import json\n",
    "from pathlib import Path\n",
    "from itertools import combinations\n",
    "\n",
    "import numpy as np\n",
    "import pandas as pd\n",
    "import matplotlib.pyplot as plt\n",
    "from sklearn.manifold import TSNE\n",
    "from sklearn.cluster import KMeans"
   ],
   "metadata": {
    "collapsed": false,
    "pycharm": {
     "name": "#%%\n"
    }
   }
  },
  {
   "cell_type": "code",
   "execution_count": null,
   "outputs": [],
   "source": [
    "PROJECT_ROOT = Path('.').absolute().parent"
   ],
   "metadata": {
    "collapsed": false,
    "pycharm": {
     "name": "#%%\n"
    }
   }
  },
  {
   "cell_type": "code",
   "execution_count": null,
   "metadata": {
    "collapsed": true,
    "pycharm": {
     "name": "#%%\n"
    }
   },
   "outputs": [],
   "source": [
    "dataset = 'compas'\n",
    "split = 'train'\n",
    "gamma = 1.0\n",
    "\n",
    "enc_dir = PROJECT_ROOT / 'encodings' / f'{dataset}_gamma_{gamma}'"
   ]
  },
  {
   "cell_type": "code",
   "execution_count": null,
   "outputs": [],
   "source": [
    "column_ids = json.load(open(enc_dir / 'column_ids_undisc.json'))\n",
    "\n",
    "t_features = pd.read_csv(enc_dir / f'{split}_t_features.csv', names=column_ids.keys(), sep=' ' )\n",
    "t_labels = np.loadtxt(enc_dir / f'{split}_t_labels.csv')\n",
    "t_sizes = np.loadtxt(enc_dir / f'{split}_t_sizes.csv')\n",
    "\n",
    "w_features = pd.read_csv(enc_dir / f'{split}_w_features.csv', names=column_ids.keys(), sep=' ' )\n",
    "w_labels = np.loadtxt(enc_dir / f'{split}_w_labels.csv')\n",
    "w_sizes = np.loadtxt(enc_dir / f'{split}_w_sizes.csv')"
   ],
   "metadata": {
    "collapsed": false,
    "pycharm": {
     "name": "#%%\n"
    }
   }
  },
  {
   "cell_type": "code",
   "execution_count": null,
   "outputs": [],
   "source": [
    "n_clusters = 8\n",
    "kmeans_t_features = KMeans(n_clusters=n_clusters, random_state=0).fit(t_features)\n",
    "kmeans_w_features = KMeans(n_clusters=n_clusters, random_state=0).fit(w_features)"
   ],
   "metadata": {
    "collapsed": false,
    "pycharm": {
     "name": "#%%\n"
    }
   }
  },
  {
   "cell_type": "code",
   "execution_count": null,
   "outputs": [],
   "source": [
    "for perplexity in [15]:\n",
    "    t_features_sne = TSNE(perplexity=perplexity).fit_transform(t_features)\n",
    "    w_features_sne = TSNE(perplexity=perplexity).fit_transform(w_features)\n",
    "\n",
    "    fig, ax = plt.subplots(nrows=1, ncols=2, figsize=(15, 7.5))\n",
    "\n",
    "    ax[0].scatter(\n",
    "        t_features_sne[:, 0], t_features_sne[:, 1], s=t_sizes, c=kmeans_w_features.labels_\n",
    "    )\n",
    "    ax[1].scatter(\n",
    "        w_features_sne[:, 0], w_features_sne[:, 1], s=w_sizes, c=kmeans_w_features.labels_\n",
    "    )\n",
    "    ax[0].set_title('African-American')\n",
    "    ax[1].set_title('Caucasian')\n",
    "\n",
    "    fig.suptitle(f't-SNE (perplexity={perplexity}): {n_clusters} Clusters')\n",
    "    plt.show()"
   ],
   "metadata": {
    "collapsed": false,
    "pycharm": {
     "name": "#%%\n"
    }
   }
  },
  {
   "cell_type": "code",
   "execution_count": null,
   "outputs": [],
   "source": [
    "fig, ax = plt.subplots(nrows=1, ncols=2, figsize=(15, 7.5))\n",
    "\n",
    "for label in [0, 1]:\n",
    "    ax[label].scatter(\n",
    "        t_features_sne[t_labels == label][:, 0],\n",
    "        t_features_sne[t_labels == label][:, 1], s=t_sizes[t_labels == label],\n",
    "        c='tab:blue', label='African-American'\n",
    "    )\n",
    "    ax[label].scatter(\n",
    "        w_features_sne[w_labels == label][:, 0],\n",
    "        w_features_sne[w_labels == label][:, 1], s=w_sizes[w_labels == label],\n",
    "        c='tab:orange', label='Caucasian'\n",
    "    )\n",
    "    ax[label].set_title(f'Label {label}')\n",
    "\n",
    "    for idx in range(t_features_sne.shape[0]):\n",
    "        if t_labels[idx] == label and w_labels[idx] == label:\n",
    "            ax[label].plot(\n",
    "                [t_features_sne[idx, 0], w_features_sne[idx, 0]],\n",
    "                [t_features_sne[idx, 1], w_features_sne[idx, 1]],\n",
    "                c='k', alpha=0.1\n",
    "            )\n",
    "\n",
    "handles, labels = plt.gca().get_legend_handles_labels()\n",
    "by_label = dict(zip(labels, handles))\n",
    "fig.legend(by_label.values(), by_label.keys())\n",
    "fig.suptitle(f'Perplexity {perplexity}')\n",
    "plt.show()"
   ],
   "metadata": {
    "collapsed": false,
    "pycharm": {
     "name": "#%%\n"
    }
   }
  },
  {
   "cell_type": "code",
   "execution_count": null,
   "outputs": [],
   "source": [
    "for x_axis, y_axis in combinations(['age', 'diff_custody', 'diff_jail', 'priors_count'], r=2):\n",
    "\n",
    "    fig, ax = plt.subplots(nrows=1, ncols=1, figsize=(7.5, 7.5))\n",
    "\n",
    "    ax.scatter(\n",
    "        t_features[x_axis], t_features[y_axis], s=t_sizes, c='tab:blue', label='African-American'\n",
    "    )\n",
    "    ax.scatter(\n",
    "        w_features[x_axis], w_features[y_axis], s=w_sizes, c='tab:orange', label='Caucasian'\n",
    "    )\n",
    "\n",
    "    for idx in range(t_features.shape[0]):\n",
    "        ax.plot(\n",
    "           [t_features[x_axis][idx], w_features[x_axis][idx]],\n",
    "           [t_features[y_axis][idx], w_features[y_axis][idx]], c='k', alpha=0.1\n",
    "        )\n",
    "\n",
    "    ax.set_xlabel(x_axis)\n",
    "    ax.set_ylabel(y_axis)\n",
    "    fig.legend()\n",
    "    plt.show()"
   ],
   "metadata": {
    "collapsed": false,
    "pycharm": {
     "name": "#%%\n"
    }
   }
  }
 ],
 "metadata": {
  "kernelspec": {
   "display_name": "Python 3",
   "language": "python",
   "name": "python3"
  },
  "language_info": {
   "codemirror_mode": {
    "name": "ipython",
    "version": 2
   },
   "file_extension": ".py",
   "mimetype": "text/x-python",
   "name": "python",
   "nbconvert_exporter": "python",
   "pygments_lexer": "ipython2",
   "version": "2.7.6"
  }
 },
 "nbformat": 4,
 "nbformat_minor": 0
}